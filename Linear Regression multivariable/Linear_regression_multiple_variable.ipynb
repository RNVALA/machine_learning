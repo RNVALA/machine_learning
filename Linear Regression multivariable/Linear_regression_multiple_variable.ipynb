{
 "cells": [
  {
   "cell_type": "code",
   "execution_count": 1,
   "id": "216c96d2",
   "metadata": {},
   "outputs": [],
   "source": [
    "#here we are the predicting the price of the home based on the area,badrooms,ageofhome \n",
    "#so our dependent variable is price and our independent variable is bedrooms,age,area\n",
    "#if we are looking at equation then our equation may look like \n",
    "#price=m1*area+m2*bedrooms+m3*age+b b is intercept and m is coefficient\n"
   ]
  },
  {
   "cell_type": "code",
   "execution_count": 14,
   "id": "baaf49e8",
   "metadata": {},
   "outputs": [],
   "source": [
    "import pandas as  pd\n",
    "import numpy as np\n",
    "from sklearn import linear_model\n",
    "import warnings\n",
    "warnings.filterwarnings('ignore')\n"
   ]
  },
  {
   "cell_type": "code",
   "execution_count": 17,
   "id": "56caf105",
   "metadata": {},
   "outputs": [
    {
     "data": {
      "text/plain": [
       "(6, 4)"
      ]
     },
     "execution_count": 17,
     "metadata": {},
     "output_type": "execute_result"
    }
   ],
   "source": [
    "df=pd.read_csv('homeprices.csv')\n",
    "df.shape"
   ]
  },
  {
   "cell_type": "code",
   "execution_count": 4,
   "id": "4cbbdb8d",
   "metadata": {},
   "outputs": [
    {
     "data": {
      "text/plain": [
       "4"
      ]
     },
     "execution_count": 4,
     "metadata": {},
     "output_type": "execute_result"
    }
   ],
   "source": [
    "#now we will fill the null value by using median of bedrooms\n",
    "#here math.floor function is used to round up the decimal part\n",
    "import math\n",
    "median_bedrooms=math.floor(df.bedrooms.median())\n",
    "median_bedrooms"
   ]
  },
  {
   "cell_type": "code",
   "execution_count": 5,
   "id": "23f84210",
   "metadata": {},
   "outputs": [
    {
     "data": {
      "text/html": [
       "<div>\n",
       "<style scoped>\n",
       "    .dataframe tbody tr th:only-of-type {\n",
       "        vertical-align: middle;\n",
       "    }\n",
       "\n",
       "    .dataframe tbody tr th {\n",
       "        vertical-align: top;\n",
       "    }\n",
       "\n",
       "    .dataframe thead th {\n",
       "        text-align: right;\n",
       "    }\n",
       "</style>\n",
       "<table border=\"1\" class=\"dataframe\">\n",
       "  <thead>\n",
       "    <tr style=\"text-align: right;\">\n",
       "      <th></th>\n",
       "      <th>area</th>\n",
       "      <th>bedrooms</th>\n",
       "      <th>age</th>\n",
       "      <th>price</th>\n",
       "    </tr>\n",
       "  </thead>\n",
       "  <tbody>\n",
       "    <tr>\n",
       "      <th>0</th>\n",
       "      <td>2600</td>\n",
       "      <td>3.0</td>\n",
       "      <td>20</td>\n",
       "      <td>550000</td>\n",
       "    </tr>\n",
       "    <tr>\n",
       "      <th>1</th>\n",
       "      <td>3000</td>\n",
       "      <td>4.0</td>\n",
       "      <td>15</td>\n",
       "      <td>565000</td>\n",
       "    </tr>\n",
       "    <tr>\n",
       "      <th>2</th>\n",
       "      <td>3200</td>\n",
       "      <td>4.0</td>\n",
       "      <td>18</td>\n",
       "      <td>610000</td>\n",
       "    </tr>\n",
       "    <tr>\n",
       "      <th>3</th>\n",
       "      <td>3600</td>\n",
       "      <td>3.0</td>\n",
       "      <td>30</td>\n",
       "      <td>595000</td>\n",
       "    </tr>\n",
       "    <tr>\n",
       "      <th>4</th>\n",
       "      <td>4000</td>\n",
       "      <td>5.0</td>\n",
       "      <td>8</td>\n",
       "      <td>760000</td>\n",
       "    </tr>\n",
       "    <tr>\n",
       "      <th>5</th>\n",
       "      <td>4100</td>\n",
       "      <td>6.0</td>\n",
       "      <td>8</td>\n",
       "      <td>810000</td>\n",
       "    </tr>\n",
       "  </tbody>\n",
       "</table>\n",
       "</div>"
      ],
      "text/plain": [
       "   area  bedrooms  age   price\n",
       "0  2600       3.0   20  550000\n",
       "1  3000       4.0   15  565000\n",
       "2  3200       4.0   18  610000\n",
       "3  3600       3.0   30  595000\n",
       "4  4000       5.0    8  760000\n",
       "5  4100       6.0    8  810000"
      ]
     },
     "execution_count": 5,
     "metadata": {},
     "output_type": "execute_result"
    }
   ],
   "source": [
    "df['bedrooms']=df.bedrooms.fillna(median_bedrooms)\n",
    "df"
   ]
  },
  {
   "cell_type": "code",
   "execution_count": 6,
   "id": "2adae800",
   "metadata": {},
   "outputs": [],
   "source": [
    "reg=linear_model.LinearRegression()\n"
   ]
  },
  {
   "cell_type": "code",
   "execution_count": 7,
   "id": "702f2bfc",
   "metadata": {},
   "outputs": [
    {
     "data": {
      "text/plain": [
       "LinearRegression()"
      ]
     },
     "execution_count": 7,
     "metadata": {},
     "output_type": "execute_result"
    }
   ],
   "source": [
    "reg.fit(df[['area','bedrooms','age']],df.price)"
   ]
  },
  {
   "cell_type": "code",
   "execution_count": 8,
   "id": "ab6ef9b2",
   "metadata": {},
   "outputs": [
    {
     "data": {
      "text/plain": [
       "array([  112.06244194, 23388.88007794, -3231.71790863])"
      ]
     },
     "execution_count": 8,
     "metadata": {},
     "output_type": "execute_result"
    }
   ],
   "source": [
    "reg.coef_"
   ]
  },
  {
   "cell_type": "code",
   "execution_count": 9,
   "id": "09062396",
   "metadata": {},
   "outputs": [
    {
     "data": {
      "text/plain": [
       "221323.00186540384"
      ]
     },
     "execution_count": 9,
     "metadata": {},
     "output_type": "execute_result"
    }
   ],
   "source": [
    "reg.intercept_"
   ]
  },
  {
   "cell_type": "code",
   "execution_count": 10,
   "id": "5e1e47bb",
   "metadata": {},
   "outputs": [
    {
     "data": {
      "text/plain": [
       "array([498408.25158031])"
      ]
     },
     "execution_count": 10,
     "metadata": {},
     "output_type": "execute_result"
    }
   ],
   "source": [
    "reg.predict([[3000,3,40]])"
   ]
  },
  {
   "cell_type": "code",
   "execution_count": 11,
   "id": "4f86ddd6",
   "metadata": {},
   "outputs": [
    {
     "data": {
      "text/plain": [
       "498408.25157402386"
      ]
     },
     "execution_count": 11,
     "metadata": {},
     "output_type": "execute_result"
    }
   ],
   "source": [
    "#as we write equation already so by that equation we will varify the value\n",
    "3000*112.06244194+3*23388.88007794+40*(-3231.71790863)+221323.00186540384"
   ]
  },
  {
   "cell_type": "code",
   "execution_count": 12,
   "id": "2c67a36e",
   "metadata": {},
   "outputs": [
    {
     "data": {
      "text/plain": [
       "array([578876.03748933])"
      ]
     },
     "execution_count": 12,
     "metadata": {},
     "output_type": "execute_result"
    }
   ],
   "source": [
    "reg.predict([[2500,4,5]])"
   ]
  },
  {
   "cell_type": "code",
   "execution_count": null,
   "id": "08eeac9a",
   "metadata": {},
   "outputs": [],
   "source": []
  },
  {
   "cell_type": "code",
   "execution_count": null,
   "id": "8f299259",
   "metadata": {},
   "outputs": [],
   "source": []
  }
 ],
 "metadata": {
  "kernelspec": {
   "display_name": "Python 3 (ipykernel)",
   "language": "python",
   "name": "python3"
  },
  "language_info": {
   "codemirror_mode": {
    "name": "ipython",
    "version": 3
   },
   "file_extension": ".py",
   "mimetype": "text/x-python",
   "name": "python",
   "nbconvert_exporter": "python",
   "pygments_lexer": "ipython3",
   "version": "3.9.12"
  }
 },
 "nbformat": 4,
 "nbformat_minor": 5
}
